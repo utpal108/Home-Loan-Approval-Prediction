{
 "cells": [
  {
   "cell_type": "code",
   "execution_count": 1,
   "metadata": {},
   "outputs": [
    {
     "data": {
      "text/plain": [
       "'/home/utpal108/dev/Python/PW_Skills_Projects/Home-Loan-Approval-Prediction'"
      ]
     },
     "execution_count": 1,
     "metadata": {},
     "output_type": "execute_result"
    }
   ],
   "source": [
    "import os\n",
    "os.chdir('../')\n",
    "%pwd"
   ]
  },
  {
   "cell_type": "code",
   "execution_count": 2,
   "metadata": {},
   "outputs": [],
   "source": [
    "# Config Entity\n",
    "from dataclasses import dataclass\n",
    "from pathlib import Path\n",
    "\n",
    "@dataclass(frozen=True)\n",
    "class ModelTrainingConfig:\n",
    "    best_model_path: Path\n",
    "    "
   ]
  },
  {
   "cell_type": "code",
   "execution_count": 3,
   "metadata": {},
   "outputs": [],
   "source": [
    "from homeLoan.constants import *\n",
    "from homeLoan.utils import create_directories, read_yaml"
   ]
  },
  {
   "cell_type": "code",
   "execution_count": 4,
   "metadata": {},
   "outputs": [],
   "source": [
    "# Configuration Manager\n",
    "class ConfigurationManager:\n",
    "    def __init__(self, config_filepath = CONFIG_FILE_PATH, params_filepath = PARAMS_FILE_PATH):\n",
    "        self.config = read_yaml(config_filepath)\n",
    "        self.params = read_yaml(params_filepath)\n",
    "        create_directories([self.config.artifacts_root])\n",
    "\n",
    "    def get_model_training_config(self) -> ModelTrainingConfig:\n",
    "        config= self.config.model_training\n",
    "        create_directories([config.root_dir])\n",
    "\n",
    "        model_training_config = ModelTrainingConfig(\n",
    "            best_model_path = Path(config.best_model_path),\n",
    "        )\n",
    "\n",
    "        return  model_training_config\n"
   ]
  },
  {
   "cell_type": "code",
   "execution_count": 5,
   "metadata": {},
   "outputs": [],
   "source": [
    "from homeLoan.utils import save_object, evaluate_model\n",
    "from sklearn.svm import SVC\n",
    "from sklearn.tree import DecisionTreeClassifier\n",
    "from sklearn.neighbors import KNeighborsClassifier\n",
    "from sklearn.ensemble import RandomForestClassifier\n",
    "from sklearn.naive_bayes import GaussianNB"
   ]
  },
  {
   "cell_type": "code",
   "execution_count": 6,
   "metadata": {},
   "outputs": [],
   "source": [
    "# Component\n",
    "class ModelTraining:\n",
    "    def __init__(self, config: ModelTrainingConfig):\n",
    "        self.config = config\n",
    "\n",
    "    def initiate_model_training(self, train_arr, test_arr):\n",
    "        try:\n",
    "            # Split train, test data\n",
    "            X_train = train_arr[:,:-1]\n",
    "            X_test = test_arr[:,:-1]\n",
    "            y_train = train_arr[:,-1]\n",
    "            y_test = test_arr[:,-1]\n",
    "\n",
    "            # List of the Models\n",
    "            # Here we have classification problem, so we used the list of classification models\n",
    "            models = {\n",
    "                'SVC': SVC(),\n",
    "                'DecisionTreeClassifier': DecisionTreeClassifier(),\n",
    "                'KNeighborsClassifier': KNeighborsClassifier(),\n",
    "                'RandomForestClassifier': RandomForestClassifier(),\n",
    "                'GaussianNB': GaussianNB()\n",
    "            }\n",
    "\n",
    "            # Find the best model\n",
    "            model_report, best_model = evaluate_model(models, X_train, X_test, y_train, y_test)\n",
    "            print(model_report)\n",
    "            print(best_model)\n",
    "            best_model = models[list(best_model.keys())[0]]\n",
    "\n",
    "            # Save the best model\n",
    "            save_object(self.config.best_model_path, best_model)\n",
    "\n",
    "        except Exception as e:\n",
    "            raise e\n"
   ]
  },
  {
   "cell_type": "code",
   "execution_count": 7,
   "metadata": {},
   "outputs": [],
   "source": [
    "from homeLoan.components.data_preprocessing import DataPreprocessing\n",
    "from homeLoan.config import ConfigurationManager"
   ]
  },
  {
   "cell_type": "code",
   "execution_count": 8,
   "metadata": {},
   "outputs": [
    {
     "name": "stderr",
     "output_type": "stream",
     "text": [
      "2023-12-02 21:48:26,719 : homeLoan.logger - INFO - YAML file: config/config.yaml loaded successfully\n",
      "2023-12-02 21:48:26,721 : homeLoan.logger - INFO - YAML file: params.yaml loaded successfully\n",
      "2023-12-02 21:48:26,722 : homeLoan.logger - INFO - created directory at: artifacts\n",
      "2023-12-02 21:48:26,723 : homeLoan.logger - INFO - created directory at: artifacts/preprocessor\n",
      "2023-12-02 21:48:26,724 : homeLoan.logger - INFO - created directory at: artifacts/model_training\n"
     ]
    },
    {
     "name": "stdout",
     "output_type": "stream",
     "text": [
      "{'SVC': 0.7881773399014779, 'DecisionTreeClassifier': 0.75, 'KNeighborsClassifier': 0.7978142076502732, 'RandomForestClassifier': 0.8379888268156425, 'GaussianNB': 0.840909090909091}\n",
      "{'GaussianNB': 0.840909090909091}\n"
     ]
    }
   ],
   "source": [
    "# Pipeline\n",
    "try:\n",
    "    config = ConfigurationManager()\n",
    "    data_preprocessing_config = config.get_data_preprocessing_config()\n",
    "    model_training_config = config.get_model_training_config()\n",
    "\n",
    "    data_preprocessing = DataPreprocessing(config=data_preprocessing_config)\n",
    "    train_arr, test_arr = data_preprocessing.initiate_data_preprocessing()\n",
    "\n",
    "    model_training = ModelTraining(config=model_training_config)\n",
    "    model_training.initiate_model_training(train_arr=train_arr, test_arr=test_arr)\n",
    "\n",
    "except Exception as e:\n",
    "    raise e"
   ]
  },
  {
   "cell_type": "code",
   "execution_count": null,
   "metadata": {},
   "outputs": [],
   "source": []
  }
 ],
 "metadata": {
  "kernelspec": {
   "display_name": "venv",
   "language": "python",
   "name": "python3"
  },
  "language_info": {
   "codemirror_mode": {
    "name": "ipython",
    "version": 3
   },
   "file_extension": ".py",
   "mimetype": "text/x-python",
   "name": "python",
   "nbconvert_exporter": "python",
   "pygments_lexer": "ipython3",
   "version": "3.10.12"
  }
 },
 "nbformat": 4,
 "nbformat_minor": 2
}
