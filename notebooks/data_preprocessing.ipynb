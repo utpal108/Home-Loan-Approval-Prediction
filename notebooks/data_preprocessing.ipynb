{
 "cells": [
  {
   "cell_type": "code",
   "execution_count": 1,
   "metadata": {},
   "outputs": [
    {
     "data": {
      "text/plain": [
       "'/home/utpal108/dev/Python/PW_Skills_Projects/Home-Loan-Approval-Prediction'"
      ]
     },
     "execution_count": 1,
     "metadata": {},
     "output_type": "execute_result"
    }
   ],
   "source": [
    "import os\n",
    "os.chdir('../')\n",
    "%pwd"
   ]
  },
  {
   "cell_type": "code",
   "execution_count": 2,
   "metadata": {},
   "outputs": [],
   "source": [
    "from dataclasses import dataclass\n",
    "from pathlib import Path"
   ]
  },
  {
   "cell_type": "code",
   "execution_count": 3,
   "metadata": {},
   "outputs": [],
   "source": [
    "@dataclass(frozen=True)\n",
    "class DataPreprocessingConfig:\n",
    "    train_data_path: Path\n",
    "    test_data_path: Path\n",
    "    preprocessor_path: Path"
   ]
  },
  {
   "cell_type": "code",
   "execution_count": 4,
   "metadata": {},
   "outputs": [],
   "source": [
    "import pandas as pd\n",
    "from homeLoan.constants import *\n",
    "from homeLoan.utils import read_yaml, save_object, create_directories"
   ]
  },
  {
   "cell_type": "code",
   "execution_count": 5,
   "metadata": {},
   "outputs": [],
   "source": [
    "# Configuration Manager\n",
    "class ConfigurationManager:\n",
    "    def __init__(self, config_filepath = CONFIG_FILE_PATH, params_filepath = PARAMS_FILE_PATH):\n",
    "\n",
    "        self.config = read_yaml(config_filepath)\n",
    "        self.params = read_yaml(params_filepath)\n",
    "\n",
    "    def get_data_preprocessing_config(self) -> DataPreprocessingConfig:\n",
    "        config = self.config\n",
    "        create_directories([config.data_preprocessor.root_dir])\n",
    "\n",
    "        data_preprocessing_config = DataPreprocessingConfig(\n",
    "            train_data_path = Path(config.data_ingestion.train_data_path),\n",
    "            test_data_path = Path(config.data_ingestion.test_data_path),\n",
    "            preprocessor_path = Path(config.data_preprocessor.preprocessor_path)\n",
    "        )\n",
    "\n",
    "        return data_preprocessing_config"
   ]
  },
  {
   "cell_type": "code",
   "execution_count": 6,
   "metadata": {},
   "outputs": [],
   "source": [
    "from sklearn.impute import SimpleImputer # For Handling Missing Values\n",
    "from sklearn.preprocessing import StandardScaler # For Feature Scaling\n",
    "from sklearn.preprocessing import OrdinalEncoder # For Ordinal Encoding\n",
    "\n",
    "# Pipeline\n",
    "from sklearn.pipeline import Pipeline\n",
    "from sklearn.compose import ColumnTransformer\n",
    "\n",
    "import numpy as np"
   ]
  },
  {
   "cell_type": "code",
   "execution_count": 7,
   "metadata": {},
   "outputs": [],
   "source": [
    "# Components\n",
    "class DataPreprocessing:\n",
    "    def __init__(self, config: DataPreprocessingConfig):\n",
    "        self.config = config\n",
    "\n",
    "    def _data_preprocessor(self, numerical_features, categorical_features, scalled_features):\n",
    "        '''\n",
    "        Preprocess the raw dataset\n",
    "        '''\n",
    "\n",
    "        # Define custom ranking for each ordinal values\n",
    "        gender_categories = ['Female', 'Male']\n",
    "        married_categories = ['No', 'Yes']\n",
    "        dependents_categories = ['0', '1', '2', '3+']\n",
    "        education_categories = ['Not Graduate', 'Graduate']\n",
    "        self_employed_categories = ['No', 'Yes']\n",
    "        property_area_categories = ['Rural', 'Semiurban', 'Urban']\n",
    "\n",
    "        # Numerical Pipeline\n",
    "        num_pipeline = Pipeline(\n",
    "            steps=[\n",
    "                ('imputer', SimpleImputer(strategy='median'))\n",
    "            ]\n",
    "        )\n",
    "\n",
    "        # Categorical Pipeline\n",
    "        cat_pipeline = Pipeline(\n",
    "            steps=[\n",
    "                ('imputer', SimpleImputer(strategy='most_frequent')),\n",
    "                ('ordinalencoder', OrdinalEncoder(categories=[gender_categories, married_categories, dependents_categories, education_categories, self_employed_categories, property_area_categories]))\n",
    "            ]\n",
    "        )\n",
    "\n",
    "        # Scaling Pipeline\n",
    "        scaling_pipeline = Pipeline(\n",
    "            steps = [\n",
    "                ('imputer', SimpleImputer(strategy='median')),\n",
    "                ('scaler', StandardScaler())\n",
    "            ]\n",
    "        )\n",
    "\n",
    "        preprocessor = ColumnTransformer(\n",
    "            transformers=[\n",
    "                ('num_pipeline', num_pipeline, numerical_features),\n",
    "                ('cat_pipeline', cat_pipeline, categorical_features),\n",
    "                ('scaling_pipeline', scaling_pipeline, scalled_features)\n",
    "            ],\n",
    "            remainder='passthrough'\n",
    "        )\n",
    "\n",
    "        return preprocessor\n",
    "\n",
    "    \n",
    "    def initiate_data_preprocessing(self) -> None:\n",
    "        \n",
    "        try:\n",
    "            train_df = pd.read_csv(self.config.train_data_path)\n",
    "            test_df = pd.read_csv(self.config.test_data_path)\n",
    "\n",
    "            target_maping = {'Y':1, 'N':0}\n",
    "            train_df['Loan_Status'] = train_df['Loan_Status'].map(target_maping)\n",
    "            test_df['Loan_Status'] = test_df['Loan_Status'].map(target_maping)\n",
    "        \n",
    "            input_features_train_df = train_df.drop(['Loan_ID', 'Loan_Status'], axis=1)\n",
    "            target_features_train_df = train_df['Loan_Status']\n",
    "\n",
    "            input_features_test_df = test_df.drop(['Loan_ID', 'Loan_Status'], axis=1)\n",
    "            target_features_test_df = test_df['Loan_Status']\n",
    "\n",
    "            # Categorical & Numerical Features\n",
    "            categorical_features = ['Gender', 'Married', 'Dependents', 'Education', 'Self_Employed', 'Property_Area']\n",
    "            scalled_features = ['ApplicantIncome', 'CoapplicantIncome', 'LoanAmount']\n",
    "            numerical_features = ['Loan_Amount_Term', 'Credit_History']\n",
    "\n",
    "            preprocessor = self._data_preprocessor(numerical_features=numerical_features, categorical_features=categorical_features, scalled_features=scalled_features)\n",
    "\n",
    "            input_features_train_df = preprocessor.fit_transform(input_features_train_df)\n",
    "            input_features_test_df = preprocessor.fit_transform(input_features_test_df)\n",
    "\n",
    "            train_arr = np.c_[input_features_train_df, np.array(target_features_train_df)]\n",
    "            test_arr = np.c_[input_features_test_df, np.array(target_features_test_df)]\n",
    "\n",
    "            save_object(self.config.preprocessor_path, preprocessor)\n",
    "            \n",
    "            return train_arr, test_arr\n",
    "\n",
    "        except Exception as e:\n",
    "            raise e\n",
    "    "
   ]
  },
  {
   "cell_type": "code",
   "execution_count": 8,
   "metadata": {},
   "outputs": [
    {
     "name": "stderr",
     "output_type": "stream",
     "text": [
      "2023-12-02 21:25:51,116 : homeLoan.logger - INFO - YAML file: config/config.yaml loaded successfully\n",
      "2023-12-02 21:25:51,118 : homeLoan.logger - INFO - YAML file: params.yaml loaded successfully\n",
      "2023-12-02 21:25:51,119 : homeLoan.logger - INFO - created directory at: artifacts/preprocessor\n"
     ]
    },
    {
     "name": "stdout",
     "output_type": "stream",
     "text": [
      "[[ 3.60000000e+02  1.00000000e+00  1.00000000e+00 ... -9.06211248e-01\n",
      "   1.24306463e+00  1.00000000e+00]\n",
      " [ 3.60000000e+02  1.00000000e+00  1.00000000e+00 ... -9.06211248e-01\n",
      "  -8.40012678e-02  1.00000000e+00]\n",
      " [ 3.60000000e+02  1.00000000e+00  1.00000000e+00 ...  2.99389655e-02\n",
      "   2.95160418e-01  1.00000000e+00]\n",
      " ...\n",
      " [ 4.80000000e+02  1.00000000e+00  1.00000000e+00 ...  2.86134877e-01\n",
      "  -1.78791689e-01  1.00000000e+00]\n",
      " [ 3.60000000e+02  1.00000000e+00  1.00000000e+00 ...  2.84193999e-01\n",
      "  -3.68372532e-01  1.00000000e+00]\n",
      " [ 1.80000000e+02  1.00000000e+00  1.00000000e+00 ... -9.06211248e-01\n",
      "   4.79093469e+00  1.00000000e+00]]\n"
     ]
    }
   ],
   "source": [
    "# Pipeline\n",
    "try:\n",
    "    config = ConfigurationManager()\n",
    "    data_preprocessing_config = config.get_data_preprocessing_config()\n",
    "    data_preprocessing = DataPreprocessing(config=data_preprocessing_config)\n",
    "    train_arr, test_arr = data_preprocessing.initiate_data_preprocessing()\n",
    "\n",
    "except Exception as e:\n",
    "    raise e"
   ]
  },
  {
   "cell_type": "code",
   "execution_count": null,
   "metadata": {},
   "outputs": [],
   "source": []
  }
 ],
 "metadata": {
  "kernelspec": {
   "display_name": "venv",
   "language": "python",
   "name": "python3"
  },
  "language_info": {
   "codemirror_mode": {
    "name": "ipython",
    "version": 3
   },
   "file_extension": ".py",
   "mimetype": "text/x-python",
   "name": "python",
   "nbconvert_exporter": "python",
   "pygments_lexer": "ipython3",
   "version": "3.10.12"
  }
 },
 "nbformat": 4,
 "nbformat_minor": 2
}
