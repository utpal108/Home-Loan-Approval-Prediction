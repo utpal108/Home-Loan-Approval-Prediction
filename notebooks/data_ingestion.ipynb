{
 "cells": [
  {
   "cell_type": "markdown",
   "metadata": {},
   "source": [
    "## Data Ingestion"
   ]
  },
  {
   "cell_type": "code",
   "execution_count": 1,
   "metadata": {},
   "outputs": [
    {
     "data": {
      "text/plain": [
       "'/home/utpal108/dev/Python/PW_Skills_Projects/Home-Loan-Approval-Prediction'"
      ]
     },
     "execution_count": 1,
     "metadata": {},
     "output_type": "execute_result"
    }
   ],
   "source": [
    "import os\n",
    "os.chdir('../')\n",
    "%pwd"
   ]
  },
  {
   "cell_type": "code",
   "execution_count": 2,
   "metadata": {},
   "outputs": [],
   "source": [
    "# Config Entity\n",
    "from dataclasses import dataclass\n",
    "from pathlib import Path\n",
    "\n",
    "@dataclass(frozen=True)\n",
    "class DataIngestionConfig:\n",
    "    source_url: str\n",
    "    raw_dataset_dir: Path\n",
    "    raw_data_path: str\n",
    "    train_data_path: Path\n",
    "    test_data_path: Path"
   ]
  },
  {
   "cell_type": "code",
   "execution_count": 3,
   "metadata": {},
   "outputs": [],
   "source": [
    "from homeLoan.constants import *\n",
    "from homeLoan.utils import create_directories, read_yaml, save_object"
   ]
  },
  {
   "cell_type": "code",
   "execution_count": 4,
   "metadata": {},
   "outputs": [],
   "source": [
    "# Configuration Manager\n",
    "class ConfigurationManager:\n",
    "    def __init__(self, config_filepath = CONFIG_FILE_PATH, params_filepath = PARAMS_FILE_PATH):\n",
    "\n",
    "        self.config = read_yaml(config_filepath)\n",
    "        self.params = read_yaml(params_filepath)\n",
    "        create_directories([self.config.artifacts_root])\n",
    "\n",
    "    def get_data_ingestion_config(self) -> DataIngestionConfig:\n",
    "        config = self.config.data_ingestion\n",
    "        create_directories([config.root_dir, config.raw_dataset_dir, config.dataset_dir])\n",
    "\n",
    "        data_ingestion_config = DataIngestionConfig(\n",
    "            source_url = config.source_URL,\n",
    "            raw_dataset_dir = Path(config.raw_dataset_dir),\n",
    "            raw_data_path = config.raw_data_path,\n",
    "            train_data_path = Path(config.train_data_path),\n",
    "            test_data_path = Path(config.test_data_path)\n",
    "        )\n",
    "\n",
    "        return data_ingestion_config"
   ]
  },
  {
   "cell_type": "code",
   "execution_count": 5,
   "metadata": {},
   "outputs": [],
   "source": [
    "import pandas as pd\n",
    "import gdown\n",
    "from sklearn.model_selection import train_test_split"
   ]
  },
  {
   "cell_type": "code",
   "execution_count": 6,
   "metadata": {},
   "outputs": [],
   "source": [
    "# Components\n",
    "class DataIngestion:\n",
    "    def __init__(self, config: DataIngestionConfig):\n",
    "        self.config = config\n",
    "\n",
    "    def _download_dataset(self) -> None:\n",
    "        '''\n",
    "        Fetch the dataset from the URL\n",
    "        '''\n",
    "        try:\n",
    "            if(not os.listdir(self.config.raw_dataset_dir)):\n",
    "                dataset_url = self.config.source_url\n",
    "                output_path = self.config.raw_data_path\n",
    "                file_id = dataset_url.split('/')[-2]\n",
    "                prefix = 'https://drive.google.com/uc?/export=download&id='\n",
    "                gdown.download(prefix+file_id, output_path)\n",
    "\n",
    "        except Exception as e:\n",
    "            raise e\n",
    "\n",
    "    def initiate_data_ingestion(self) -> None:\n",
    "        \n",
    "        try:\n",
    "            self._download_dataset()\n",
    "            df = pd.read_csv(self.config.raw_data_path)\n",
    "            train_df, test_df = train_test_split(df, test_size=0.20, random_state=42, shuffle=True)\n",
    "            train_df.to_csv(self.config.train_data_path, columns=df.columns, index=False)\n",
    "            test_df.to_csv(self.config.test_data_path, columns=df.columns, index=False)\n",
    "\n",
    "        except Exception as e:\n",
    "            raise e\n",
    "    "
   ]
  },
  {
   "cell_type": "code",
   "execution_count": 7,
   "metadata": {},
   "outputs": [
    {
     "name": "stderr",
     "output_type": "stream",
     "text": [
      "2023-12-02 22:16:29,878 : homeLoan.logger - INFO - YAML file: config/config.yaml loaded successfully\n",
      "2023-12-02 22:16:29,881 : homeLoan.logger - INFO - YAML file: params.yaml loaded successfully\n",
      "2023-12-02 22:16:29,883 : homeLoan.logger - INFO - created directory at: artifacts\n",
      "2023-12-02 22:16:29,884 : homeLoan.logger - INFO - created directory at: artifacts/data_ingestion\n",
      "2023-12-02 22:16:29,886 : homeLoan.logger - INFO - created directory at: artifacts/data_ingestion/raw_dataset\n",
      "2023-12-02 22:16:29,888 : homeLoan.logger - INFO - created directory at: artifacts/data_ingestion/dataset\n"
     ]
    }
   ],
   "source": [
    "# Pipeline\n",
    "try:\n",
    "    config = ConfigurationManager()\n",
    "    data_ingestion_config = config.get_data_ingestion_config()\n",
    "    data_ingestion = DataIngestion(config=data_ingestion_config)\n",
    "    data_ingestion.initiate_data_ingestion()\n",
    "\n",
    "except Exception as e:\n",
    "    raise e"
   ]
  }
 ],
 "metadata": {
  "kernelspec": {
   "display_name": "venv",
   "language": "python",
   "name": "python3"
  },
  "language_info": {
   "codemirror_mode": {
    "name": "ipython",
    "version": 3
   },
   "file_extension": ".py",
   "mimetype": "text/x-python",
   "name": "python",
   "nbconvert_exporter": "python",
   "pygments_lexer": "ipython3",
   "version": "3.10.12"
  }
 },
 "nbformat": 4,
 "nbformat_minor": 2
}
